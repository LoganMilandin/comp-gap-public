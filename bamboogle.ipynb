{
 "cells": [
  {
   "cell_type": "code",
   "execution_count": 28,
   "metadata": {},
   "outputs": [],
   "source": [
    "import openai\n",
    "import pandas as pd\n",
    "import urllib.request, json \n",
    "import string, re\n",
    "import random\n",
    "import numpy as np\n",
    "\n",
    "with open('API_key.txt', 'r') as file:\n",
    "    openai.api_key = file.readline().strip()"
   ]
  },
  {
   "cell_type": "code",
   "execution_count": 76,
   "metadata": {},
   "outputs": [],
   "source": [
    "prompt = \"Can you answer the following question by answering two subquestions: {}\"\n",
    "bamboogle_df = pd.read_csv('data/bamboogle.csv')\n",
    "questions = list(bamboogle_df['Question'])\n",
    "answers = list(bamboogle_df['Answer'])"
   ]
  },
  {
   "cell_type": "code",
   "execution_count": 35,
   "metadata": {},
   "outputs": [],
   "source": [
    "answers_raw = []\n",
    "for q in questions:\n",
    "    ans = openai.ChatCompletion.create(\n",
    "        model=\"gpt-3.5-turbo\",\n",
    "        max_tokens=450,\n",
    "        stop='',\n",
    "        messages=[\n",
    "            {\"role\": \"system\", \"content\": \"You are a helpful language model being evaluated for your ability to answer challenging questions. Answer in the format provided by the user.\"},\n",
    "            {\"role\": \"user\", \"content\": prompt.format(q)}\n",
    "        ]\n",
    "    )\n",
    "    answers_raw.append(ans['choices'][0][\"message\"][\"content\"])\n",
    "    np.save(\"./temp/raw.npy\", np.array(answers_raw))"
   ]
  },
  {
   "cell_type": "code",
   "execution_count": 52,
   "metadata": {},
   "outputs": [],
   "source": [
    "with open(r'./temp/temp.txt', 'w') as fp:\n",
    "    for i, item in enumerate(answers_raw):\n",
    "        fp.write(f\"\\n--{i}--\\n{item}\")\n"
   ]
  },
  {
   "cell_type": "code",
   "execution_count": 80,
   "metadata": {},
   "outputs": [],
   "source": [
    "data = []\n",
    "with open(r'./data/bamboogle_manual_clean.txt', 'r') as file:\n",
    "    for line in file:\n",
    "        assert line.rstrip().startswith('--')\n",
    "        obj = {}\n",
    "        obj['Question'] = questions[int(line[2:-3])]\n",
    "        obj['Answer'] = answers[int(line[2:-3])]\n",
    "        obj['Q1'] = next(file).rstrip()[4:]\n",
    "        obj['A1'] = next(file).rstrip().lower().split('||')\n",
    "        next(file)\n",
    "        obj['Q2'] = next(file).rstrip()[4:]\n",
    "        obj['A2'] = next(file).rstrip().lower().split('||')\n",
    "        next(file)\n",
    "        data.append(obj)\n"
   ]
  },
  {
   "cell_type": "code",
   "execution_count": 86,
   "metadata": {},
   "outputs": [],
   "source": [
    "with open('data/bamboogle.json', 'w') as f:\n",
    "    json.dump(data, f)"
   ]
  }
 ],
 "metadata": {
  "kernelspec": {
   "display_name": "comp-gap",
   "language": "python",
   "name": "python3"
  },
  "language_info": {
   "codemirror_mode": {
    "name": "ipython",
    "version": 3
   },
   "file_extension": ".py",
   "mimetype": "text/x-python",
   "name": "python",
   "nbconvert_exporter": "python",
   "pygments_lexer": "ipython3",
   "version": "3.9.12"
  },
  "orig_nbformat": 4
 },
 "nbformat": 4,
 "nbformat_minor": 2
}
