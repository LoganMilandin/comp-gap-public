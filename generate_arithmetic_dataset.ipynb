{
  "nbformat": 4,
  "nbformat_minor": 0,
  "metadata": {
    "colab": {
      "provenance": []
    },
    "kernelspec": {
      "name": "python3",
      "display_name": "Python 3"
    },
    "language_info": {
      "name": "python"
    }
  },
  "cells": [
    {
      "cell_type": "code",
      "execution_count": 1,
      "metadata": {
        "id": "e_GgYKMwCe6y"
      },
      "outputs": [],
      "source": [
        "import numpy as np"
      ]
    },
    {
      "cell_type": "code",
      "source": [
        "### Helper Functions ###\n",
        "def generate_all_preds(total_depth, elementary):\n",
        "  '''Generates (exact) arbitrary depth predicates from an elementary set\n",
        "  Parameters:\n",
        "  - total_depth: Tree depth of predicate search tree\n",
        "  - elementary: The elementary operations for ring / field\n",
        "  Returns: List of all constructed predicates of exactly depth total_depth\n",
        "     based on set elementary\n",
        "  '''\n",
        "  def gen_preds(curr, r):\n",
        "    if r == 0:\n",
        "      predicates.add(curr.format('#'))\n",
        "      return\n",
        "    elif r > 0 and '{}' not in curr:\n",
        "      return\n",
        "    else:\n",
        "      for pred in elementary:\n",
        "        gen_preds(curr.format(pred), r - 1)\n",
        "  \n",
        "  predicates = set()\n",
        "  for pred in elementary:\n",
        "    gen_preds(pred, total_depth)\n",
        "  return predicates\n",
        "\n",
        "def load_predicate(predicate, min, max, num_examples):\n",
        "  '''Load some number of random examples of a predicate\n",
        "  Parameters:\n",
        "  - predicate: The predicate to load examples from\n",
        "  - min: Minimum number for random example\n",
        "  - max: Maximum number for random example\n",
        "  - num_examples: Number of examples to generate from each predicate\n",
        "  Returns: Generates num_examples random examples from predicate predicate\n",
        "     with each element in the example bounded by [min, max). \n",
        "  '''\n",
        "  n = predicate.count('#')\n",
        "  numbers = np.random.randint(min, max, (num_examples, n))\n",
        "  statements = [predicate.replace('#', '{}').format(*i) for i in numbers]\n",
        "  dataset = [{\n",
        "      \"Question\": s,\n",
        "      \"Answer\": eval(s),\n",
        "      \"Predicate\": predicate\n",
        "  } for s in statements]\n",
        "  return dataset"
      ],
      "metadata": {
        "id": "9tvbgahYDmJa"
      },
      "execution_count": 2,
      "outputs": []
    },
    {
      "cell_type": "code",
      "source": [
        "### Config ###\n",
        "# As set up:\n",
        "# - 2 hop (i.e., 1 depth, 3 terms)\n",
        "# - Data range: [0, 20]\n",
        "# - 150,000 * 7 (number of predicates) dataset size\n",
        "DEPTH = 1\n",
        "MIN = 0\n",
        "MAX = 20\n",
        "N_EXAMPLES_PER_PRED = 150000\n",
        "\n",
        "# Commutative field elementary operations\n",
        "# elementary_preds = ['# * {}', '(# + {})']\n",
        "\n",
        "# Non-commutative field elementary operations\n",
        "elementary_preds = ['# * {}', '{} * #', '(# + {})', '({} + #)']"
      ],
      "metadata": {
        "id": "yZ6KguORIay7"
      },
      "execution_count": 3,
      "outputs": []
    },
    {
      "cell_type": "code",
      "source": [
        "# If you want a subsample of predicates here's the place to do it\n",
        "# generate_all_preds provides **every** predicate so that we can subsample from\n",
        "# the larger dataset.\n",
        "predicates = generate_all_preds(DEPTH, elementary_preds)\n",
        "datasets = []\n",
        "\n",
        "for pred in predicates:\n",
        "  datasets.append(load_predicate(pred, MIN, MAX, N_EXAMPLES_PER_PRED))\n",
        "\n",
        "data = [item for sublist in datasets for item in sublist]\n",
        "len(data)"
      ],
      "metadata": {
        "colab": {
          "base_uri": "https://localhost:8080/"
        },
        "id": "a-rVV-mxchFN",
        "outputId": "25ccb5bd-2117-4330-ef62-03e30e710f55"
      },
      "execution_count": 4,
      "outputs": [
        {
          "output_type": "execute_result",
          "data": {
            "text/plain": [
              "1050000"
            ]
          },
          "metadata": {},
          "execution_count": 4
        }
      ]
    }
  ]
}