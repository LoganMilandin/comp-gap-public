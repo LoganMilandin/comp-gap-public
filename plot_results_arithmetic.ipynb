{
 "cells": [
  {
   "cell_type": "code",
   "execution_count": 1,
   "metadata": {},
   "outputs": [],
   "source": [
    "import json\n",
    "import matplotlib.pyplot as plt\n",
    "import numpy as np\n",
    "import string\n",
    "import re\n",
    "import random"
   ]
  },
  {
   "cell_type": "code",
   "execution_count": 3,
   "metadata": {},
   "outputs": [],
   "source": [
    "data = {}\n",
    "fname = f'results/arithmetic/addition_multiplication_mixed_small_numbers_results_gpt-4.json'\n",
    "with open(fname, 'r') as infile:\n",
    "#     data[\"gpt-4\"] = json.load(infile)[\"summary\"]\n",
    "    data = json.load(infile)\n",
    "# with open(f'results/Bamboogle_new_prompt_results_2gpt-3.5-turbo.json', 'r') as infile:\n",
    "#     data[\"gpt-3.5-turbo\"] = json.load(infile)[\"summary\"]"
   ]
  },
  {
   "cell_type": "code",
   "execution_count": 4,
   "metadata": {},
   "outputs": [],
   "source": [
    "def normalize_answer(s):\n",
    "    \"\"\"Lower text and remove punctuation, articles and extra whitespace.\"\"\"\n",
    "    def remove_articles(text):\n",
    "        return re.sub(r'\\b(a|an|the)\\b', ' ', text)\n",
    "\n",
    "    def white_space_fix(text):\n",
    "        return ' '.join(text.split())\n",
    "\n",
    "    def remove_punc(text):\n",
    "        exclude = set(string.punctuation)\n",
    "        return ''.join(ch for ch in text if ch not in exclude)\n",
    "\n",
    "    def lower(text):\n",
    "        return text.lower()\n",
    "\n",
    "    return white_space_fix(remove_articles(remove_punc(lower(str(s)))))\n",
    "\n",
    "def extract_answer(generated):\n",
    "    generated = generated.lower()\n",
    "    if 'final answer:' in generated:\n",
    "        after_colon = generated.split('final answer:')[-1]\n",
    "        if \"\\n\" in after_colon:\n",
    "            after_colon = after_colon.split(\"\\n\")[0]\n",
    "    elif \":\" in generated:\n",
    "        after_colon = generated.split(':')[-1]\n",
    "        if \"\\n\" in after_colon:\n",
    "            after_colon = after_colon.split(\"\\n\")[0]\n",
    "    else:\n",
    "        after_colon = generated\n",
    "    return normalize_answer(after_colon)"
   ]
  },
  {
   "cell_type": "code",
   "execution_count": 49,
   "metadata": {},
   "outputs": [
    {
     "name": "stdout",
     "output_type": "stream",
     "text": [
      "invalid literal for int() with base 10: ''\n",
      "{'question': '15 * 19 + 11 + 7 + 0', 'prompt': 'Answer the following math problem, showing each step and stating your final answer in the form \"final answer: <number>\" on a new line. 15 * 19 + 11 + 7 + 0 =', 'answer': 303, 'returned': \"To solve this problem, follow the order of operations (PEMDAS), which stands for Parentheses, Exponents, Multiplication and Division (from left to right), and Addition and Subtraction (from left to right).\\n\\nHere's a step-by-step solution:\\n\\n1. First, perform the multiplication: \\n   15 * 19 = 285\\n\\n2. Then, perform the addition from left to right: \\n   285 + 11 = 296\\n   296 + 7 = 303\\n\\n3. As for the + 0, adding zero to any number doesn't change the number, so we can ignore it.\\n\\nFinal answer:\\n303\", 'is_right': False, 'is_right_CEM': True}\n",
      "invalid literal for int() with base 10: '139 127 12'\n",
      "{'question': '15 + 11 + 15 + 10 + 19 * 4 + 12', 'prompt': 'Answer the following math problem, showing each step and stating your final answer in the form \"final answer: <number>\" on a new line. 15 + 11 + 15 + 10 + 19 * 4 + 12 =', 'answer': 139, 'returned': 'We will perform the operations in the correct order according to the order of operations (PEMDAS/BODMAS) - first parentheses, then exponents, next multiplication and division (from left to right), and finally addition and subtraction (from left to right):\\n\\n1. Perform multiplication:\\n19 * 4 = 76\\n\\n2. Perform addition:\\n15 + 11 + 15 + 10 + 76 + 12\\n\\n3. Compute the sum from left to right:\\n26 (15 + 11) + 15 + 10 + 76 + 12\\n41 (26 + 15) + 10 + 76 + 12\\n51 (41 + 10) + 76 + 12\\n127 (51 + 76) + 12\\n\\n4. Compute the final sum:\\nfinal answer: 139 (127 + 12)', 'is_right': False, 'is_right_CEM': True}\n"
     ]
    }
   ],
   "source": [
    "for test, results in data.items():\n",
    "    # Initialize the summary counts\n",
    "    summary_counts = {\n",
    "        'unprompted_correct': 0,\n",
    "        'direct_answer_correct': 0,\n",
    "        'unprompted_CEM_correct': 0,\n",
    "        'direct_answer_CEM_correct': 0,\n",
    "        'chain_of_thought_correct': 0,\n",
    "        'chain_of_thought_CEM_correct': 0\n",
    "    }\n",
    "    \n",
    "    for question_result in results['per_question_results']:\n",
    "        for answer_type in ['unprompted', 'direct_answer', 'chain_of_thought']:\n",
    "            # Extract and clean the answer from the returned field\n",
    "            normalized_answer = normalize_answer(question_result[answer_type]['returned'])\n",
    "            extracted_answer = extract_answer(question_result[answer_type]['returned'])\n",
    "\n",
    "            # Always re-evaluate the is_right_CEM assignment\n",
    "            question_result[answer_type]['is_right_CEM'] = str(question_result[answer_type]['answer']) in str(normalized_answer)\n",
    "            # Increase the correct CEM count if the answer is correct\n",
    "            if question_result[answer_type]['is_right_CEM']:\n",
    "                summary_counts[answer_type + '_CEM_correct'] += 1\n",
    "\n",
    "            # Re-evaluate the is_right assignment\n",
    "            if answer_type == 'unprompted':\n",
    "                question_result[answer_type]['is_right'] = question_result[answer_type]['is_right_CEM']\n",
    "            else:\n",
    "                question_result[answer_type]['is_right'] = False\n",
    "                try:\n",
    "                    # Ignore possible parse error\n",
    "                    question_result[answer_type]['is_right'] = int(extracted_answer) == question_result[answer_type]['answer']\n",
    "                except Exception as e:\n",
    "                    print(e)\n",
    "                    print(question_result[answer_type])\n",
    "\n",
    "            # Increase the correct count if the answer is correct\n",
    "            if question_result[answer_type]['is_right']:\n",
    "                summary_counts[answer_type + '_correct'] += 1\n",
    "\n",
    "    # Update the summary counts in the results\n",
    "    results['summary'] = summary_counts\n",
    "\n",
    "# Save the corrected data to a new JSON file\n",
    "with open(fname, 'w') as file:\n",
    "    json.dump(data, file, indent=4)\n"
   ]
  },
  {
   "cell_type": "code",
   "execution_count": 5,
   "metadata": {},
   "outputs": [],
   "source": [
    "prompt_types = {\n",
    "    \"unprompted\": \"\", \n",
    "    \"chain_of_thought\": \"Answer the following math problem, showing each step and stating your final answer in the form \\\"final answer: <number>\\\" on a new line.\", \n",
    "    \"direct_answer\": \"Answer the following math problem, final answer (number) only, NO WORDS. \"\n",
    "}"
   ]
  },
  {
   "cell_type": "code",
   "execution_count": 6,
   "metadata": {},
   "outputs": [],
   "source": [
    "results_file = f'results/arithmetic/addition_multiplication_mixed_small_numbers_results_gpt-4.json'\n",
    "results_file\n",
    "\n",
    "def save():\n",
    "    with open(results_file, 'w') as outfile:\n",
    "        json.dump(data, outfile, ensure_ascii=False, indent=4)\n",
    "save()"
   ]
  },
  {
   "cell_type": "code",
   "execution_count": 26,
   "metadata": {},
   "outputs": [
    {
     "data": {
      "text/plain": [
       "dict_keys(['unprompted', 'chain_of_thought', 'direct_answer'])"
      ]
     },
     "execution_count": 26,
     "metadata": {},
     "output_type": "execute_result"
    }
   ],
   "source": [
    "data[\"results_10_operators\"][\"per_question_results\"][0].keys()"
   ]
  },
  {
   "cell_type": "code",
   "execution_count": 9,
   "metadata": {},
   "outputs": [
    {
     "data": {
      "text/plain": [
       "100"
      ]
     },
     "execution_count": 9,
     "metadata": {},
     "output_type": "execute_result"
    }
   ],
   "source": [
    "data2 = data[\"results_10_operators\"][\"per_question_results\"]\n",
    "len(data2)"
   ]
  },
  {
   "cell_type": "code",
   "execution_count": 45,
   "metadata": {},
   "outputs": [
    {
     "data": {
      "text/plain": [
       "100"
      ]
     },
     "execution_count": 45,
     "metadata": {},
     "output_type": "execute_result"
    }
   ],
   "source": [
    "seen = set()\n",
    "unique = [x for x in data2 if x[\"unprompted\"]['question'] not in seen and not seen.add(x[\"unprompted\"]['question'])]\n",
    "len(unique)"
   ]
  },
  {
   "cell_type": "code",
   "execution_count": 46,
   "metadata": {},
   "outputs": [],
   "source": [
    "data[\"results_10_operators\"][\"per_question_results\"] = unique"
   ]
  },
  {
   "cell_type": "code",
   "execution_count": 60,
   "metadata": {},
   "outputs": [
    {
     "data": {
      "image/png": "[encoded data removed]",
      "text/plain": [
       "<Figure size 640x480 with 1 Axes>"
      ]
     },
     "metadata": {},
     "output_type": "display_data"
    }
   ],
   "source": [
    "import matplotlib.pyplot as plt\n",
    "import json\n",
    "\n",
    "# models = ['gpt-3.5-turbo']\n",
    "models = ['gpt-3.5-turbo']\n",
    "\n",
    "\n",
    "def get_data(category):\n",
    "    accuracies = dict()\n",
    "    for model in models:\n",
    "        accuracies[model] = dict()\n",
    "        with open(f'results/arithmetic/{category}_results_{model}.json') as f:\n",
    "            data = json.load(f)\n",
    "        x = list(range(1, len(data) + 1))  # Number of operators\n",
    "        for prompt_type in prompt_types.keys():\n",
    "            accuracies[model][prompt_type] = [value['summary'][f'{prompt_type}_correct'] / 100 for value in list(data.values())]\n",
    "    return x, accuracies\n",
    "\n",
    "# Get data from JSON files\n",
    "operator_counts_addition, addition_only_accuracies = get_data('addition_only_small_numbers')\n",
    "operator_counts_multiplication, multiplication_only_accuracies = get_data('multiplication_only_small_numbers')\n",
    "operator_counts_mixed, mixed_accuracies = get_data('addition_multiplication_mixed_small_numbers')\n",
    "\n",
    "def plot_all_types_one_prompt(prompt_type, model):\n",
    "\n",
    "    # Plotting\n",
    "    plt.figure(figsize=(10, 6))\n",
    "\n",
    "    plt.plot(operator_counts_multiplication, multiplication_only_accuracies[model][prompt_type], marker='o', label=f'* only')\n",
    "    plt.plot(operator_counts_addition, addition_only_accuracies[model][prompt_type], marker='o', label=f'+ only')\n",
    "    plt.plot(operator_counts_mixed, mixed_accuracies[model][prompt_type], marker='o', label=f'+ only')\n",
    "\n",
    "    plt.xlabel('Number of Operators')\n",
    "    plt.ylabel('Correct Answers (%)')\n",
    "    plt.title(f'Accuracy vs Number of Operations ({prompt_type})')\n",
    "    plt.legend()\n",
    "    plt.grid(True)\n",
    "    plt.ylim(0, 1)  # Set the y-axis limits\n",
    "    plt.show()\n",
    "\n",
    "def plot_all_prompts_one_type(operator_counts, accuracies, type, model):\n",
    "    # line_styles = ['-', '--', '-.', ':']  # different line styles\n",
    "    plt.figure()\n",
    "\n",
    "    for prompt_type in prompt_types:\n",
    "        plt.plot(operator_counts, accuracies[model][prompt_type], marker='o', label=f'{prompt_type}')\n",
    "\n",
    "    plt.xlabel('Number of Operators in Expression')\n",
    "    plt.ylabel('Accuracy')\n",
    "    plt.title(f'{\"GPT-3.5\" if model == \"gpt-3.5-turbo\" else \"GPT-4\"} Arithmetic Accuracy ({type})')\n",
    "    # plt.legend()\n",
    "    # plt.legend(loc='upper center', bbox_to_anchor=(0.5, -0.15), ncol=3)\n",
    "\n",
    "    plt.grid(True)\n",
    "    plt.ylim(0, 1)  # Set the y-axis limits\n",
    "    plt.show()\n",
    "\n",
    "plot_all_prompts_one_type(operator_counts_mixed, multiplication_only_accuracies, \"multiplication only\", \"gpt-3.5-turbo\")\n",
    "\n"
   ]
  },
  {
   "cell_type": "code",
   "execution_count": 5,
   "metadata": {},
   "outputs": [
    {
     "name": "stdout",
     "output_type": "stream",
     "text": [
      "dict_keys(['empty_correct_EM', 'self_ask_two_hop_zero_shot_correct_EM', 'direct_answer_correct_EM', 'self_ask_correct_EM', 'empty_correct_CEM', 'self_ask_two_hop_zero_shot_correct_CEM', 'direct_answer_correct_CEM', 'self_ask_correct_CEM', 'empty_correct_GPT_opinion', 'self_ask_two_hop_zero_shot_correct_GPT_opinion', 'direct_answer_correct_GPT_opinion', 'self_ask_correct_GPT_opinion', 'both_subquestions_correct_CEM', 'both_subquestions_correct_EM', 'both_subquestions_correct_GPT_opinion'])\n",
      "dict_keys(['empty_correct_EM', 'self_ask_two_hop_zero_shot_correct_EM', 'direct_answer_correct_EM', 'chain_of_thought_correct_EM', 'self_ask_correct_EM', 'empty_correct_CEM', 'self_ask_two_hop_zero_shot_correct_CEM', 'direct_answer_correct_CEM', 'chain_of_thought_correct_CEM', 'self_ask_correct_CEM', 'empty_correct_GPT_opinion', 'self_ask_two_hop_zero_shot_correct_GPT_opinion', 'direct_answer_correct_GPT_opinion', 'chain_of_thought_correct_GPT_opinion', 'self_ask_correct_GPT_opinion', 'both_subquestions_correct_CEM', 'both_subquestions_correct_EM', 'both_subquestions_correct_GPT_opinion'])\n"
     ]
    },
    {
     "ename": "KeyError",
     "evalue": "'self_ask_zero_shot_correct_EM'",
     "output_type": "error",
     "traceback": [
      "\u001b[0;31m---------------------------------------------------------------------------\u001b[0m",
      "\u001b[0;31mKeyError\u001b[0m                                  Traceback (most recent call last)",
      "Cell \u001b[0;32mIn[5], line 56\u001b[0m\n\u001b[1;32m     54\u001b[0m \u001b[39mfor\u001b[39;00m prompt_type \u001b[39min\u001b[39;00m prompt_types:\n\u001b[1;32m     55\u001b[0m     key \u001b[39m=\u001b[39m \u001b[39mf\u001b[39m\u001b[39m\"\u001b[39m\u001b[39m{\u001b[39;00mprompt_type\u001b[39m}\u001b[39;00m\u001b[39m_correct_\u001b[39m\u001b[39m{\u001b[39;00mmatch_type\u001b[39m}\u001b[39;00m\u001b[39m\"\u001b[39m\n\u001b[0;32m---> 56\u001b[0m     accuracies[match_type][prompt_type] \u001b[39m=\u001b[39m [data[model][key] \u001b[39m/\u001b[39m dataset_size \u001b[39mfor\u001b[39;00m model \u001b[39min\u001b[39;00m models]\n\u001b[1;32m     58\u001b[0m plot_accuracies(accuracies[match_type], match_type)\n",
      "Cell \u001b[0;32mIn[5], line 56\u001b[0m, in \u001b[0;36m<listcomp>\u001b[0;34m(.0)\u001b[0m\n\u001b[1;32m     54\u001b[0m \u001b[39mfor\u001b[39;00m prompt_type \u001b[39min\u001b[39;00m prompt_types:\n\u001b[1;32m     55\u001b[0m     key \u001b[39m=\u001b[39m \u001b[39mf\u001b[39m\u001b[39m\"\u001b[39m\u001b[39m{\u001b[39;00mprompt_type\u001b[39m}\u001b[39;00m\u001b[39m_correct_\u001b[39m\u001b[39m{\u001b[39;00mmatch_type\u001b[39m}\u001b[39;00m\u001b[39m\"\u001b[39m\n\u001b[0;32m---> 56\u001b[0m     accuracies[match_type][prompt_type] \u001b[39m=\u001b[39m [data[model][key] \u001b[39m/\u001b[39m dataset_size \u001b[39mfor\u001b[39;00m model \u001b[39min\u001b[39;00m models]\n\u001b[1;32m     58\u001b[0m plot_accuracies(accuracies[match_type], match_type)\n",
      "\u001b[0;31mKeyError\u001b[0m: 'self_ask_zero_shot_correct_EM'"
     ]
    }
   ],
   "source": [
    "\n",
    "# Load data from JSON files\n",
    "# models = [\"curie\", \"davinci\", \"text-davinci-001\", \"text-davinci-002\", \"text-davinci-003\", \"gpt-3.5-turbo\", \"gpt-4\"]\n",
    "models = [\"gpt-3.5-turbo\"]\n",
    "\n",
    "dataset_size = 125\n",
    "\n",
    "data = {}\n",
    "# with open(f'results/Bamboogle_results_gpt-4.json', 'r') as infile:\n",
    "#     data[\"gpt-4\"] = json.load(infile)[\"summary\"]\n",
    "# with open(f'results/Bamboogle_new_prompt_results_2gpt-3.5-turbo.json', 'r') as infile:\n",
    "#     data[\"gpt-3.5-turbo\"] = json.load(infile)[\"summary\"]\n",
    "\n",
    "\n",
    "\n",
    "for model in models:\n",
    "    with open(f'results/CC_clean_results_{model}.json', 'r') as infile:\n",
    "        data[model] = json.load(infile)[\"summary\"]\n",
    "        print(data[model].keys())\n",
    "\n",
    "def plot_accuracies(accuracies, match_type):\n",
    "    bar_width = 0.1\n",
    "    x = np.arange(len(models))\n",
    "\n",
    "    fig, ax = plt.subplots()\n",
    "\n",
    "    for i, prompt_type in enumerate(prompt_types):\n",
    "        accuracy = accuracies[prompt_type]\n",
    "        ax.bar(x + (i - (len(prompt_types) - 1) / 2) * bar_width, accuracy, width=bar_width, label=f'{prompt_type} correct')\n",
    "\n",
    "    ax.set_xlabel('Model')\n",
    "    ax.set_ylabel('Accuracy')\n",
    "    # ax.set_title(f'Bamboogle Performance ({match_type})')\n",
    "    ax.set_title(f'Bamboogle Performance')\n",
    "\n",
    "    ax.set_xticks(x)\n",
    "    ax.set_xticklabels(models, fontsize=8)\n",
    "    ax.legend(loc='upper center', bbox_to_anchor=(0.5, -0.15), ncol=2)\n",
    "\n",
    "    # for i, model in enumerate(models):\n",
    "    #     difference = (accuracies[f\"both_subquestions\"][i] - accuracies[f\"empty\"][i]) / (accuracies[f\"both_subquestions\"][i]+.01) * 100\n",
    "    #     y_start = accuracies[f\"empty\"][i]\n",
    "    #     y_end = accuracies[f\"both_subquestions\"][i]\n",
    "    #     x_pos = x[i] - 4 * 0.1 / 2\n",
    "    #     ax.vlines(x_pos, y_start, y_end, linestyle='dotted', color='black')\n",
    "    #     ax.annotate(f'{difference:.1f}%', xy=(x_pos, (y_start + y_end) / 2), fontsize=8, color='black', ha='right')\n",
    "\n",
    "\n",
    "    plt.plot()\n",
    "\n",
    "\n",
    "\n",
    "# Calculate accuracy for each prompt type and model\n",
    "accuracies = {}\n",
    "for match_type in [\"EM\", \"CEM\", \"GPT_opinion\"]:\n",
    "    accuracies[match_type] = {}\n",
    "    for prompt_type in prompt_types:\n",
    "        key = f\"{prompt_type}_correct_{match_type}\"\n",
    "        accuracies[match_type][prompt_type] = [data[model][key] / dataset_size for model in models]\n",
    "\n",
    "    plot_accuracies(accuracies[match_type], match_type)\n",
    "\n",
    "\n",
    "\n",
    "\n",
    "\n"
   ]
  }
 ],
 "metadata": {
  "kernelspec": {
   "display_name": "Python 3",
   "language": "python",
   "name": "python3"
  },
  "language_info": {
   "codemirror_mode": {
    "name": "ipython",
    "version": 3
   },
   "file_extension": ".py",
   "mimetype": "text/x-python",
   "name": "python",
   "nbconvert_exporter": "python",
   "pygments_lexer": "ipython3",
   "version": "3.9.15"
  },
  "orig_nbformat": 4
 },
 "nbformat": 4,
 "nbformat_minor": 2
}
