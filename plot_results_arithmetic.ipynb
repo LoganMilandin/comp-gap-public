{
 "cells": [
  {
   "cell_type": "code",
   "execution_count": 1,
   "metadata": {},
   "outputs": [],
   "source": [
    "import json\n",
    "import matplotlib.pyplot as plt\n",
    "import numpy as np\n",
    "import string\n",
    "import re"
   ]
  },
  {
   "cell_type": "code",
   "execution_count": 10,
   "metadata": {},
   "outputs": [],
   "source": [
    "data = {}\n",
    "fname = f'results/arithmetic/word_problem_only_results_mult_gpt-3.5-turbo.json'\n",
    "with open(fname, 'r') as infile:\n",
    "#     data[\"gpt-4\"] = json.load(infile)[\"summary\"]\n",
    "    data = json.load(infile)\n",
    "# with open(f'results/Bamboogle_new_prompt_results_2gpt-3.5-turbo.json', 'r') as infile:\n",
    "#     data[\"gpt-3.5-turbo\"] = json.load(infile)[\"summary\"]"
   ]
  },
  {
   "cell_type": "code",
   "execution_count": 3,
   "metadata": {},
   "outputs": [],
   "source": [
    "def normalize_answer(s):\n",
    "    \"\"\"Lower text and remove punctuation, articles and extra whitespace.\"\"\"\n",
    "    def remove_articles(text):\n",
    "        return re.sub(r'\\b(a|an|the)\\b', ' ', text)\n",
    "\n",
    "    def white_space_fix(text):\n",
    "        return ' '.join(text.split())\n",
    "\n",
    "    def remove_punc(text):\n",
    "        exclude = set(string.punctuation)\n",
    "        return ''.join(ch for ch in text if ch not in exclude)\n",
    "\n",
    "    def lower(text):\n",
    "        return text.lower()\n",
    "\n",
    "    return white_space_fix(remove_articles(remove_punc(lower(str(s)))))\n",
    "\n",
    "def extract_answer(generated):\n",
    "    generated = generated.lower()\n",
    "    if 'final answer:' in generated:\n",
    "        after_colon = generated.split('final answer:')[-1]\n",
    "        if \"\\n\" in after_colon:\n",
    "            after_colon = after_colon.split(\"\\n\")[0]\n",
    "    elif \":\" in generated:\n",
    "        after_colon = generated.split(':')[-1]\n",
    "        if \"\\n\" in after_colon:\n",
    "            after_colon = after_colon.split(\"\\n\")[0]\n",
    "    else:\n",
    "        after_colon = generated\n",
    "    return normalize_answer(after_colon)"
   ]
  },
  {
   "cell_type": "code",
   "execution_count": 11,
   "metadata": {},
   "outputs": [
    {
     "name": "stdout",
     "output_type": "stream",
     "text": [
      "invalid literal for int() with base 10: '18 x 16 x 1 288'\n",
      "{'question': 'A factory produces 16 boxes per hour, and each box contains 1 toys. If the factory operates for 18 hours, how many toys are produced in total?', 'prompt': 'Answer the following math problem, final answer (number) only, NO WORDS.  A factory produces 16 boxes per hour, and each box contains 1 toys. If the factory operates for 18 hours, how many toys are produced in total?', 'answer': 288, 'returned': '18 x 16 x 1 = 288', 'is_right': False, 'is_right_CEM': True}\n",
      "invalid literal for int() with base 10: '209 hours'\n",
      "{'question': 'A team of workers can complete a project in 1 days working 11 hours per day. How many hours would it take to finish 19 projects?', 'prompt': 'Answer the following math problem, final answer (number) only, NO WORDS.  A team of workers can complete a project in 1 days working 11 hours per day. How many hours would it take to finish 19 projects?', 'answer': 209, 'returned': '209 hours', 'is_right': False, 'is_right_CEM': True}\n",
      "invalid literal for int() with base 10: ''\n",
      "{'question': 'A box contains 14 bags, and each bag contains 9 books. If each book has 12 chapters and each chapter has 2 pages, how many pages are there in total?', 'prompt': 'Answer the following math problem, final answer (number) only, NO WORDS.  A box contains 14 bags, and each bag contains 9 books. If each book has 12 chapters and each chapter has 2 pages, how many pages are there in total?', 'answer': 3024, 'returned': 'Another way to approach this is to find the number of pages in each bag, and then multiply by the number of bags:\\n\\nNumber of pages in each bag = 9 books/bag * 12 chapters/book * 2 pages/chapter = 216 pages/bag\\n\\nTotal number of pages = 14 bags * 216 pages/bag = 3,024 pages\\n\\nTherefore, the answer is:\\n\\n3024', 'is_right': False, 'is_right_CEM': True}\n",
      "invalid literal for int() with base 10: ''\n",
      "{'question': 'A farmer has 4 fields, each containing 8 rows of crops, and each row has 9 plants. If each plant yields 14 fruits, how many fruits did the farmer harvest in total?', 'prompt': 'Answer the following math problem, final answer (number) only, NO WORDS.  A farmer has 4 fields, each containing 8 rows of crops, and each row has 9 plants. If each plant yields 14 fruits, how many fruits did the farmer harvest in total?', 'answer': 4032, 'returned': 'You can calculate it using the following formula:\\n\\n4 x 8 x 9 x 14 = 4,032\\n\\nSo the final answer is:\\n\\n4032', 'is_right': False, 'is_right_CEM': True}\n",
      "invalid literal for int() with base 10: '4 x 6 x 18 x 12 5184'\n",
      "{'question': 'Sarah earned $4 for every hour she worked. If she worked 6 hours a day, 18 days a week, and for 12 weeks, how much money did she earn in total?', 'prompt': 'Answer the following math problem, final answer (number) only, NO WORDS.  Sarah earned $4 for every hour she worked. If she worked 6 hours a day, 18 days a week, and for 12 weeks, how much money did she earn in total?', 'answer': 5184, 'returned': '4 x 6 x 18 x 12 = 5184', 'is_right': False, 'is_right_CEM': True}\n",
      "invalid literal for int() with base 10: '155520 petals'\n",
      "{'question': 'A group of friends decides to plant a garden together. They divide the garden into 12 sections, and each section has 8 rows of plants. Each row contains 3 plants, and each plant produces 3 flowers. If each flower has 18 petals, how many petals are there in the entire garden?', 'prompt': 'Answer the following math problem, final answer (number) only, NO WORDS.  A group of friends decides to plant a garden together. They divide the garden into 12 sections, and each section has 8 rows of plants. Each row contains 3 plants, and each plant produces 3 flowers. If each flower has 18 petals, how many petals are there in the entire garden?', 'answer': 15552, 'returned': '155,520 petals', 'is_right': False, 'is_right_CEM': True}\n",
      "invalid literal for int() with base 10: 'question asks for final answer as number only with no words'\n",
      "{'question': 'A group of friends decides to plant a garden together. They divide the garden into 15 sections, and each section has 8 rows of plants. Each row contains 3 plants, and each plant produces 10 flowers. If each flower has 6 petals, how many petals are there in the entire garden?', 'prompt': 'Answer the following math problem, final answer (number) only, NO WORDS.  A group of friends decides to plant a garden together. They divide the garden into 15 sections, and each section has 8 rows of plants. Each row contains 3 plants, and each plant produces 10 flowers. If each flower has 6 petals, how many petals are there in the entire garden?', 'answer': 21600, 'returned': 'Note: The question asks for the final answer as a number only, with no words. \\n\\n36,000', 'is_right': False, 'is_right_CEM': False}\n",
      "invalid literal for int() with base 10: ''\n",
      "{'question': 'A bakery sells cakes in boxes. Each box contains 15 layers of cake, and each layer has 16 slices. Each slice is made up of 19 small pieces. Each small piece is decorated with 18 chocolate chips. If each chocolate chip is made up of 18 chocolate chunks and each chocolate chunk contains 14 cocoa beans, how many cocoa beans are there in total in a box of cakes?', 'prompt': 'Answer the following math problem, final answer (number) only, NO WORDS.  A bakery sells cakes in boxes. Each box contains 15 layers of cake, and each layer has 16 slices. Each slice is made up of 19 small pieces. Each small piece is decorated with 18 chocolate chips. If each chocolate chip is made up of 18 chocolate chunks and each chocolate chunk contains 14 cocoa beans, how many cocoa beans are there in total in a box of cakes?', 'answer': 20684160, 'returned': '> The total number of cocoa beans in a box of cakes is:\\n> \\n> 23,692,800', 'is_right': False, 'is_right_CEM': False}\n",
      "invalid literal for int() with base 10: 'this answer does not reflect any practicality ethicality or feasibility it is equationbased calculation only'\n",
      "{'question': 'A bakery sells cakes in boxes. Each box contains 15 layers of cake, and each layer has 18 slices. Each slice is made up of 2 small pieces. Each small piece is decorated with 15 chocolate chips. If each chocolate chip is made up of 18 chocolate chunks and each chocolate chunk contains 1 cocoa beans, how many cocoa beans are there in total in a box of cakes?', 'prompt': 'Answer the following math problem, final answer (number) only, NO WORDS.  A bakery sells cakes in boxes. Each box contains 15 layers of cake, and each layer has 18 slices. Each slice is made up of 2 small pieces. Each small piece is decorated with 15 chocolate chips. If each chocolate chip is made up of 18 chocolate chunks and each chocolate chunk contains 1 cocoa beans, how many cocoa beans are there in total in a box of cakes?', 'answer': 145800, 'returned': 'Note: This answer does not reflect any practicality, ethicality, or feasibility; it is an equation-based calculation only.\\n\\n48,600', 'is_right': False, 'is_right_CEM': False}\n",
      "invalid literal for int() with base 10: '44472oo'\n",
      "{'question': 'In a factory, there are 6 assembly lines. Each assembly line has 1 workers, and each worker can assemble 13 units per hour. Each unit consists of 6 components, and each component requires 18 individual parts. Each part has 8 screws. How many screws are used in total to assemble all the units in the factory in one hour?', 'prompt': 'Answer the following math problem, final answer (number) only, NO WORDS.  In a factory, there are 6 assembly lines. Each assembly line has 1 workers, and each worker can assemble 13 units per hour. Each unit consists of 6 components, and each component requires 18 individual parts. Each part has 8 screws. How many screws are used in total to assemble all the units in the factory in one hour?', 'answer': 67392, 'returned': '4,447,2oo', 'is_right': False, 'is_right_CEM': False}\n",
      "invalid literal for int() with base 10: ''\n",
      "{'question': 'In a factory, there are 14 assembly lines. Each assembly line has 19 workers, and each worker can assemble 9 units per hour. Each unit consists of 5 components, and each component requires 5 individual parts. Each part has 0 screws. How many screws are used in total to assemble all the units in the factory in one hour?', 'prompt': 'Answer the following math problem, final answer (number) only, NO WORDS.  In a factory, there are 14 assembly lines. Each assembly line has 19 workers, and each worker can assemble 9 units per hour. Each unit consists of 5 components, and each component requires 5 individual parts. Each part has 0 screws. How many screws are used in total to assemble all the units in the factory in one hour?', 'answer': 0, 'returned': 'This problem requires multi-step calculations and is best solved using the following formula:\\n\\nTotal Screws = (Number of Units) x (Number of Components per Unit) x (Number of Parts per Component) x (Number of Screws per Part)\\n\\nTotal Screws = 14 x 19 x 9 x 5 x 5 x 0 = 0\\n\\nTherefore, the total number of screws used in the factory to assemble all the units in one hour is 0.', 'is_right': False, 'is_right_CEM': True}\n",
      "invalid literal for int() with base 10: '493290 screws'\n",
      "{'question': 'In a factory, there are 1 assembly lines. Each assembly line has 19 workers, and each worker can assemble 5 units per hour. Each unit consists of 9 components, and each component requires 4 individual parts. Each part has 9 screws. How many screws are used in total to assemble all the units in the factory in one hour?', 'prompt': 'Answer the following math problem, final answer (number) only, NO WORDS.  In a factory, there are 1 assembly lines. Each assembly line has 19 workers, and each worker can assemble 5 units per hour. Each unit consists of 9 components, and each component requires 4 individual parts. Each part has 9 screws. How many screws are used in total to assemble all the units in the factory in one hour?', 'answer': 30780, 'returned': '493,290 (screws)', 'is_right': False, 'is_right_CEM': False}\n"
     ]
    }
   ],
   "source": [
    "for test, results in data.items():\n",
    "    # Initialize the summary counts\n",
    "    summary_counts = {\n",
    "        'unprompted_correct': 0,\n",
    "        'direct_answer_correct': 0,\n",
    "        'unprompted_CEM_correct': 0,\n",
    "        'direct_answer_CEM_correct': 0\n",
    "    }\n",
    "    \n",
    "    for question_result in results['per_question_results']:\n",
    "        for answer_type in ['direct_answer']:\n",
    "            # Extract and clean the answer from the returned field\n",
    "            normalized_answer = normalize_answer(question_result[answer_type]['returned'])\n",
    "            extracted_answer = extract_answer(question_result[answer_type]['returned'])\n",
    "\n",
    "            # Always re-evaluate the is_right_CEM assignment\n",
    "            question_result[answer_type]['is_right_CEM'] = str(question_result[answer_type]['answer']) in str(normalized_answer)\n",
    "            # Increase the correct CEM count if the answer is correct\n",
    "            if question_result[answer_type]['is_right_CEM']:\n",
    "                summary_counts[answer_type + '_CEM_correct'] += 1\n",
    "\n",
    "            # Re-evaluate the is_right assignment\n",
    "            if answer_type == 'unprompted':\n",
    "                question_result[answer_type]['is_right'] = question_result[answer_type]['is_right_CEM']\n",
    "            else:\n",
    "                question_result[answer_type]['is_right'] = False\n",
    "                try:\n",
    "                    # Ignore possible parse error\n",
    "                    question_result[answer_type]['is_right'] = int(extracted_answer) == question_result[answer_type]['answer']\n",
    "                except Exception as e:\n",
    "                    print(e)\n",
    "                    print(question_result[answer_type])\n",
    "\n",
    "            # Increase the correct count if the answer is correct\n",
    "            if question_result[answer_type]['is_right']:\n",
    "                summary_counts[answer_type + '_correct'] += 1\n",
    "\n",
    "    # Update the summary counts in the results\n",
    "    results['summary'] = summary_counts\n",
    "\n",
    "# Save the corrected data to a new JSON file\n",
    "with open(f'results/arithmetic/abc.json', 'w') as file:\n",
    "    json.dump(data, file, indent=4)\n"
   ]
  },
  {
   "cell_type": "code",
   "execution_count": 6,
   "metadata": {},
   "outputs": [],
   "source": [
    "prompt_types = {\n",
    "    # \"unprompted\": \"\", \n",
    "    # \"reasoning_ok\": \"Answer the following math problem, formatting your final answer as \\\"final answer: <number>\\\". You may show your work. \", \n",
    "    \"direct_answer\": \"Answer the following math problem, final answer (number) only, NO WORDS. \"\n",
    "}"
   ]
  },
  {
   "cell_type": "code",
   "execution_count": 15,
   "metadata": {},
   "outputs": [
    {
     "data": {
      "image/png": "[encoded data removed]",
      "text/plain": [
       "<Figure size 720x432 with 1 Axes>"
      ]
     },
     "metadata": {
      "needs_background": "light"
     },
     "output_type": "display_data"
    }
   ],
   "source": [
    "import matplotlib.pyplot as plt\n",
    "import json\n",
    "\n",
    "def get_data(category):\n",
    "    with open(f'results/arithmetic/word_problem_only_results_{category}_gpt-3.5-turbo.json') as f:\n",
    "        data = json.load(f)\n",
    "    x = list(range(1, len(data) + 1))  # Number of operators\n",
    "    unprompted_y = None#[value['summary']['unprompted_correct'] for value in data.values()]\n",
    "    direct_answer_y = [value['summary']['direct_answer_correct'] for value in data.values()]\n",
    "    return x, unprompted_y, direct_answer_y\n",
    "\n",
    "# Get data from JSON files\n",
    "x_add, unprompted_y_add, direct_y_add = get_data('add')\n",
    "x_mul, unprompted_y_mul, direct_y_mul = get_data('mult')\n",
    "\n",
    "# Plotting\n",
    "plt.figure(figsize=(10, 6))\n",
    "\n",
    "# plt.plot(x_add, unprompted_y_add, marker='o', label='Unprompted (+)')\n",
    "plt.plot(x_add, direct_y_add, marker='o', label='Direct Answer (+)')\n",
    "# plt.plot(x_mul, unprompted_y_mul, marker='o', linestyle='--', label='Unprompted (*)')\n",
    "plt.plot(x_mul, direct_y_mul, marker='o', linestyle='--', label='Direct Answer (*)')\n",
    "\n",
    "plt.xlabel('Number of Operators')\n",
    "plt.ylabel('Correct Answers (%)')\n",
    "plt.title('Accuracy as a Function of Number of Operators')\n",
    "plt.legend()\n",
    "plt.grid(True)\n",
    "plt.show()\n"
   ]
  },
  {
   "cell_type": "code",
   "execution_count": 5,
   "metadata": {},
   "outputs": [
    {
     "name": "stdout",
     "output_type": "stream",
     "text": [
      "dict_keys(['empty_correct_EM', 'self_ask_two_hop_zero_shot_correct_EM', 'direct_answer_correct_EM', 'self_ask_correct_EM', 'empty_correct_CEM', 'self_ask_two_hop_zero_shot_correct_CEM', 'direct_answer_correct_CEM', 'self_ask_correct_CEM', 'empty_correct_GPT_opinion', 'self_ask_two_hop_zero_shot_correct_GPT_opinion', 'direct_answer_correct_GPT_opinion', 'self_ask_correct_GPT_opinion', 'both_subquestions_correct_CEM', 'both_subquestions_correct_EM', 'both_subquestions_correct_GPT_opinion'])\n",
      "dict_keys(['empty_correct_EM', 'self_ask_two_hop_zero_shot_correct_EM', 'direct_answer_correct_EM', 'chain_of_thought_correct_EM', 'self_ask_correct_EM', 'empty_correct_CEM', 'self_ask_two_hop_zero_shot_correct_CEM', 'direct_answer_correct_CEM', 'chain_of_thought_correct_CEM', 'self_ask_correct_CEM', 'empty_correct_GPT_opinion', 'self_ask_two_hop_zero_shot_correct_GPT_opinion', 'direct_answer_correct_GPT_opinion', 'chain_of_thought_correct_GPT_opinion', 'self_ask_correct_GPT_opinion', 'both_subquestions_correct_CEM', 'both_subquestions_correct_EM', 'both_subquestions_correct_GPT_opinion'])\n"
     ]
    },
    {
     "ename": "KeyError",
     "evalue": "'self_ask_zero_shot_correct_EM'",
     "output_type": "error",
     "traceback": [
      "\u001b[0;31m---------------------------------------------------------------------------\u001b[0m",
      "\u001b[0;31mKeyError\u001b[0m                                  Traceback (most recent call last)",
      "Cell \u001b[0;32mIn[5], line 56\u001b[0m\n\u001b[1;32m     54\u001b[0m \u001b[39mfor\u001b[39;00m prompt_type \u001b[39min\u001b[39;00m prompt_types:\n\u001b[1;32m     55\u001b[0m     key \u001b[39m=\u001b[39m \u001b[39mf\u001b[39m\u001b[39m\"\u001b[39m\u001b[39m{\u001b[39;00mprompt_type\u001b[39m}\u001b[39;00m\u001b[39m_correct_\u001b[39m\u001b[39m{\u001b[39;00mmatch_type\u001b[39m}\u001b[39;00m\u001b[39m\"\u001b[39m\n\u001b[0;32m---> 56\u001b[0m     accuracies[match_type][prompt_type] \u001b[39m=\u001b[39m [data[model][key] \u001b[39m/\u001b[39m dataset_size \u001b[39mfor\u001b[39;00m model \u001b[39min\u001b[39;00m models]\n\u001b[1;32m     58\u001b[0m plot_accuracies(accuracies[match_type], match_type)\n",
      "Cell \u001b[0;32mIn[5], line 56\u001b[0m, in \u001b[0;36m<listcomp>\u001b[0;34m(.0)\u001b[0m\n\u001b[1;32m     54\u001b[0m \u001b[39mfor\u001b[39;00m prompt_type \u001b[39min\u001b[39;00m prompt_types:\n\u001b[1;32m     55\u001b[0m     key \u001b[39m=\u001b[39m \u001b[39mf\u001b[39m\u001b[39m\"\u001b[39m\u001b[39m{\u001b[39;00mprompt_type\u001b[39m}\u001b[39;00m\u001b[39m_correct_\u001b[39m\u001b[39m{\u001b[39;00mmatch_type\u001b[39m}\u001b[39;00m\u001b[39m\"\u001b[39m\n\u001b[0;32m---> 56\u001b[0m     accuracies[match_type][prompt_type] \u001b[39m=\u001b[39m [data[model][key] \u001b[39m/\u001b[39m dataset_size \u001b[39mfor\u001b[39;00m model \u001b[39min\u001b[39;00m models]\n\u001b[1;32m     58\u001b[0m plot_accuracies(accuracies[match_type], match_type)\n",
      "\u001b[0;31mKeyError\u001b[0m: 'self_ask_zero_shot_correct_EM'"
     ]
    }
   ],
   "source": [
    "\n",
    "# Load data from JSON files\n",
    "# models = [\"curie\", \"davinci\", \"text-davinci-001\", \"text-davinci-002\", \"text-davinci-003\", \"gpt-3.5-turbo\", \"gpt-4\"]\n",
    "models = [\"gpt-3.5-turbo\"]\n",
    "\n",
    "dataset_size = 125\n",
    "\n",
    "data = {}\n",
    "# with open(f'results/Bamboogle_results_gpt-4.json', 'r') as infile:\n",
    "#     data[\"gpt-4\"] = json.load(infile)[\"summary\"]\n",
    "# with open(f'results/Bamboogle_new_prompt_results_2gpt-3.5-turbo.json', 'r') as infile:\n",
    "#     data[\"gpt-3.5-turbo\"] = json.load(infile)[\"summary\"]\n",
    "\n",
    "\n",
    "\n",
    "for model in models:\n",
    "    with open(f'results/CC_clean_results_{model}.json', 'r') as infile:\n",
    "        data[model] = json.load(infile)[\"summary\"]\n",
    "        print(data[model].keys())\n",
    "\n",
    "def plot_accuracies(accuracies, match_type):\n",
    "    bar_width = 0.1\n",
    "    x = np.arange(len(models))\n",
    "\n",
    "    fig, ax = plt.subplots()\n",
    "\n",
    "    for i, prompt_type in enumerate(prompt_types):\n",
    "        accuracy = accuracies[prompt_type]\n",
    "        ax.bar(x + (i - (len(prompt_types) - 1) / 2) * bar_width, accuracy, width=bar_width, label=f'{prompt_type} correct')\n",
    "\n",
    "    ax.set_xlabel('Model')\n",
    "    ax.set_ylabel('Accuracy')\n",
    "    # ax.set_title(f'Bamboogle Performance ({match_type})')\n",
    "    ax.set_title(f'Bamboogle Performance')\n",
    "\n",
    "    ax.set_xticks(x)\n",
    "    ax.set_xticklabels(models, fontsize=8)\n",
    "    ax.legend(loc='upper center', bbox_to_anchor=(0.5, -0.15), ncol=2)\n",
    "\n",
    "    # for i, model in enumerate(models):\n",
    "    #     difference = (accuracies[f\"both_subquestions\"][i] - accuracies[f\"empty\"][i]) / (accuracies[f\"both_subquestions\"][i]+.01) * 100\n",
    "    #     y_start = accuracies[f\"empty\"][i]\n",
    "    #     y_end = accuracies[f\"both_subquestions\"][i]\n",
    "    #     x_pos = x[i] - 4 * 0.1 / 2\n",
    "    #     ax.vlines(x_pos, y_start, y_end, linestyle='dotted', color='black')\n",
    "    #     ax.annotate(f'{difference:.1f}%', xy=(x_pos, (y_start + y_end) / 2), fontsize=8, color='black', ha='right')\n",
    "\n",
    "\n",
    "    plt.plot()\n",
    "\n",
    "\n",
    "\n",
    "# Calculate accuracy for each prompt type and model\n",
    "accuracies = {}\n",
    "for match_type in [\"EM\", \"CEM\", \"GPT_opinion\"]:\n",
    "    accuracies[match_type] = {}\n",
    "    for prompt_type in prompt_types:\n",
    "        key = f\"{prompt_type}_correct_{match_type}\"\n",
    "        accuracies[match_type][prompt_type] = [data[model][key] / dataset_size for model in models]\n",
    "\n",
    "    plot_accuracies(accuracies[match_type], match_type)\n",
    "\n",
    "\n",
    "\n",
    "\n",
    "\n"
   ]
  }
 ],
 "metadata": {
  "kernelspec": {
   "display_name": "Python 3",
   "language": "python",
   "name": "python3"
  },
  "language_info": {
   "codemirror_mode": {
    "name": "ipython",
    "version": 3
   },
   "file_extension": ".py",
   "mimetype": "text/x-python",
   "name": "python",
   "nbconvert_exporter": "python",
   "pygments_lexer": "ipython3",
   "version": "3.9.12"
  },
  "orig_nbformat": 4
 },
 "nbformat": 4,
 "nbformat_minor": 2
}
