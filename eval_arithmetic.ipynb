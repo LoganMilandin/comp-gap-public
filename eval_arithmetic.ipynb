{
 "cells": [
  {
   "cell_type": "code",
   "execution_count": 1,
   "metadata": {},
   "outputs": [],
   "source": [
    "import openai\n",
    "import urllib.request, json \n",
    "import string, re\n",
    "import random\n",
    "import time\n",
    "import traceback\n",
    "\n",
    "\n",
    "with open('API_key.txt', 'r') as file:\n",
    "    openai.api_key = file.readline().strip()"
   ]
  },
  {
   "cell_type": "code",
   "execution_count": 2,
   "metadata": {},
   "outputs": [
    {
     "data": {
      "text/plain": [
       "144"
      ]
     },
     "execution_count": 2,
     "metadata": {},
     "output_type": "execute_result"
    }
   ],
   "source": [
    "data_path = \"data/all_formats_small_numbers.json\"\n",
    "with open(data_path, 'r') as f:\n",
    "    data = json.load(f)\n",
    "len(data)"
   ]
  },
  {
   "cell_type": "code",
   "execution_count": 3,
   "metadata": {},
   "outputs": [],
   "source": [
    "def normalize_answer(s):\n",
    "    \"\"\"Lower text and remove punctuation, articles and extra whitespace.\"\"\"\n",
    "    def remove_articles(text):\n",
    "        return re.sub(r'\\b(a|an|the)\\b', ' ', text)\n",
    "\n",
    "    def white_space_fix(text):\n",
    "        return ' '.join(text.split())\n",
    "\n",
    "    def remove_punc(text):\n",
    "        exclude = set(string.punctuation)\n",
    "        return ''.join(ch for ch in text if ch not in exclude)\n",
    "\n",
    "    def lower(text):\n",
    "        return text.lower()\n",
    "\n",
    "    return white_space_fix(remove_articles(remove_punc(lower(str(s)))))\n",
    "\n",
    "def extract_answer(generated):\n",
    "    generated = generated.lower()\n",
    "    if 'final answer:' in generated:\n",
    "        after_colon = generated.split('final answer:')[-1]\n",
    "        if \"\\n\" in after_colon:\n",
    "            after_colon = after_colon.split(\"\\n\")[0]\n",
    "    elif \":\" in generated:\n",
    "        after_colon = generated.split(':')[-1]\n",
    "        if \"\\n\" in after_colon:\n",
    "            after_colon = after_colon.split(\"\\n\")[0]\n",
    "    else:\n",
    "        after_colon = generated\n",
    "    return normalize_answer(after_colon)"
   ]
  },
  {
   "cell_type": "code",
   "execution_count": 4,
   "metadata": {},
   "outputs": [],
   "source": [
    "system_prompt = f\"You are ChatGPT, a large language model trained by OpenAI, based on the GPT-4 architecture.\\nKnowledge cutoff: 2021-09\\nCurrent date: 2023-04-18\""
   ]
  },
  {
   "cell_type": "code",
   "execution_count": 5,
   "metadata": {},
   "outputs": [],
   "source": [
    "def run_LM_on_expression(prompt, sample, current_model, extract_answer, max_tokens=300, start=\" =\"):\n",
    "    question = sample['Question'] + start\n",
    "    # cur_prompt = prompt_prefix + prompt + '\\n' + '\\n' + 'Question: ' + question + '\\n' + start\n",
    "    cur_prompt = prompt + ' ' + question\n",
    "\n",
    "    if current_model in [\"gpt-3.5-turbo\", \"gpt-4\"]:\n",
    "        ans = openai.ChatCompletion.create(\n",
    "            model=current_model,\n",
    "            max_tokens=max_tokens,\n",
    "            # stop='\\n\\n',\n",
    "            messages=[\n",
    "                {\"role\": \"system\", \"content\": system_prompt},\n",
    "                {\"role\": \"user\", \"content\": cur_prompt}\n",
    "            ]\n",
    "        )\n",
    "        response_text = ans['choices'][0][\"message\"][\"content\"]\n",
    "    else:\n",
    "        ans = openai.Completion.create(\n",
    "            model=current_model,\n",
    "            max_tokens=max_tokens,\n",
    "            # stop='\\n\\n',\n",
    "            prompt=cur_prompt,\n",
    "            temperature=0\n",
    "        )\n",
    "        response_text = ans['choices'][0]['text']\n",
    "    is_right = False\n",
    "    try:\n",
    "        if prompt == \"\":\n",
    "            is_right = str(sample[\"Answer\"]) in normalize_answer(response_text)\n",
    "        else:\n",
    "            cleaned_answer = extract_answer(response_text)\n",
    "            is_right = int(cleaned_answer) == sample[\"Answer\"]\n",
    "\n",
    "    except Exception as e:\n",
    "        print(cur_prompt)\n",
    "        print(response_text)\n",
    "        print(e)\n",
    "    jsonres = {\n",
    "        \"question\": sample['Question'],\n",
    "        \"prompt\": cur_prompt,\n",
    "        \"answer\": sample['Answer'],\n",
    "        \"returned\": response_text,\n",
    "        \"is_right\": is_right,\n",
    "        \"is_right_CEM\": str(sample[\"Answer\"]) in normalize_answer(response_text)\n",
    "    }\n",
    "    return jsonres"
   ]
  },
  {
   "cell_type": "code",
   "execution_count": 6,
   "metadata": {},
   "outputs": [],
   "source": [
    "def update_results_dict(results, prompt_results, prompt_types):\n",
    "\n",
    "    for key in prompt_types:\n",
    "        if prompt_results[key][f\"is_right\"]:\n",
    "            results[\"summary\"][f\"{key}_correct\"] += 1\n",
    "        if prompt_results[key][f\"is_right_CEM\"]:\n",
    "            results[\"summary\"][f\"{key}_CEM_correct\"] += 1\n",
    "\n",
    "    results[\"per_question_results\"].append(prompt_results)\n"
   ]
  },
  {
   "cell_type": "code",
   "execution_count": 21,
   "metadata": {},
   "outputs": [
    {
     "name": "stdout",
     "output_type": "stream",
     "text": [
      "['# * #', '# + #']\n"
     ]
    },
    {
     "data": {
      "text/plain": [
       "{'per_question_results': [], 'summary': {'direct_answer_correct': 0}}"
      ]
     },
     "execution_count": 21,
     "metadata": {},
     "output_type": "execute_result"
    }
   ],
   "source": [
    "# formats = [' + '.join(['#'] * (i+2)) for i in range(1, 5)] #+ [' + '.join(['#'] * (i+2)) for i in range(1, 5)]\n",
    "formats = [\"# * #\", \"# + #\"]\n",
    "\n",
    "prompts = {\n",
    "    # \"unprompted\": \"\", \n",
    "    # \"reasoning_ok\": \"Answer the following math problem, formatting your final answer as \\\"final answer: <number>\\\". You may show your work. \", \n",
    "    \"direct_answer\": \"Answer the following math problem, final answer (number) only, NO WORDS. \"\n",
    "}\n",
    "results = {\n",
    "    f\"results_format_({format})\": {\n",
    "        \"per_question_results\": [],\n",
    "        \"summary\": {\n",
    "            **{f\"{prompt_type}_correct\": 0 for prompt_type in prompts.keys()}, **{f\"{prompt_type}_CEM_correct\": 0 for prompt_type in prompts.keys()}\n",
    "        }\n",
    "    } for format in formats\n",
    "}\n",
    "\n",
    "print(formats)\n",
    "\n",
    "{\n",
    "    \"per_question_results\": [],\n",
    "    \"summary\": {\n",
    "        \"direct_answer_correct\": 0,\n",
    "        # \"unprompted_correct\": 0\n",
    "    }\n",
    "}\n"
   ]
  },
  {
   "cell_type": "code",
   "execution_count": 22,
   "metadata": {},
   "outputs": [],
   "source": [
    "model = \"gpt-3.5-turbo\""
   ]
  },
  {
   "cell_type": "code",
   "execution_count": 23,
   "metadata": {},
   "outputs": [
    {
     "data": {
      "text/plain": [
       "10"
      ]
     },
     "execution_count": 23,
     "metadata": {},
     "output_type": "execute_result"
    }
   ],
   "source": [
    "wp_path = \"data/add_mult_only_3.json\"\n",
    "with open(wp_path, 'r') as f:\n",
    "    wps = json.load(f)\n",
    "len(wps)"
   ]
  },
  {
   "cell_type": "code",
   "execution_count": 17,
   "metadata": {},
   "outputs": [
    {
     "name": "stdout",
     "output_type": "stream",
     "text": [
      "0\n",
      "1\n",
      "2\n",
      "Lisa is organizing a fundraising event for her school. She plans to sell boxes of cookies. Each box contains 18 rows of cookies, with 15 cookies in each row. Lisa wants to assemble the boxes in stacks, with 10 boxes in each stack. How many cookies will be in a stack of boxes?\n",
      "3\n",
      "4\n",
      "5\n",
      "6\n",
      "7\n",
      "Lisa is organizing a fundraising event for her school. She plans to sell boxes of cookies. Each box contains 6 rows of cookies, with 15 cookies in each row. Lisa wants to assemble the boxes in stacks, with 1 boxes in each stack. How many cookies will be in a stack of boxes?\n",
      "8\n",
      "9\n",
      "10\n",
      "11\n",
      "12\n",
      "Lisa is organizing a fundraising event for her school. She plans to sell boxes of cookies. Each box contains 16 rows of cookies, with 12 cookies in each row. Lisa wants to assemble the boxes in stacks, with 0 boxes in each stack. How many cookies will be in a stack of boxes?\n",
      "13\n",
      "14\n",
      "15\n",
      "16\n",
      "17\n",
      "Lisa is organizing a fundraising event for her school. She plans to sell boxes of cookies. Each box contains 18 rows of cookies, with 8 cookies in each row. Lisa wants to assemble the boxes in stacks, with 18 boxes in each stack. How many cookies will be in a stack of boxes?\n",
      "18\n",
      "19\n",
      "20\n",
      "21\n",
      "22\n",
      "Lisa is organizing a fundraising event for her school. She plans to sell boxes of cookies. Each box contains 18 rows of cookies, with 5 cookies in each row. Lisa wants to assemble the boxes in stacks, with 3 boxes in each stack. How many cookies will be in a stack of boxes?\n",
      "23\n",
      "24\n",
      "25\n",
      "26\n",
      "27\n",
      "Lisa is organizing a fundraising event for her school. She plans to sell boxes of cookies. Each box contains 6 rows of cookies, with 11 cookies in each row. Lisa wants to assemble the boxes in stacks, with 14 boxes in each stack. How many cookies will be in a stack of boxes?\n",
      "28\n",
      "29\n",
      "30\n",
      "31\n",
      "32\n",
      "Lisa is organizing a fundraising event for her school. She plans to sell boxes of cookies. Each box contains 16 rows of cookies, with 12 cookies in each row. Lisa wants to assemble the boxes in stacks, with 14 boxes in each stack. How many cookies will be in a stack of boxes?\n",
      "33\n",
      "34\n",
      "35\n",
      "36\n",
      "37\n",
      "Lisa is organizing a fundraising event for her school. She plans to sell boxes of cookies. Each box contains 15 rows of cookies, with 10 cookies in each row. Lisa wants to assemble the boxes in stacks, with 14 boxes in each stack. How many cookies will be in a stack of boxes?\n",
      "38\n",
      "39\n",
      "40\n",
      "41\n",
      "42\n",
      "Lisa is organizing a fundraising event for her school. She plans to sell boxes of cookies. Each box contains 9 rows of cookies, with 16 cookies in each row. Lisa wants to assemble the boxes in stacks, with 1 boxes in each stack. How many cookies will be in a stack of boxes?\n",
      "43\n",
      "44\n",
      "45\n",
      "46\n",
      "47\n",
      "Lisa is organizing a fundraising event for her school. She plans to sell boxes of cookies. Each box contains 8 rows of cookies, with 13 cookies in each row. Lisa wants to assemble the boxes in stacks, with 9 boxes in each stack. How many cookies will be in a stack of boxes?\n"
     ]
    },
    {
     "name": "stderr",
     "output_type": "stream",
     "text": [
      "Traceback (most recent call last):\n",
      "  File \"/tmp/ipykernel_946/2440290653.py\", line 21, in <cell line: 1>\n",
      "    prompt_results[key] = run_LM_on_expression(prompt, dp, model, extract_answer=extract_answer, start=\"\")\n",
      "  File \"/tmp/ipykernel_946/1293680870.py\", line 7, in run_LM_on_expression\n",
      "    ans = openai.ChatCompletion.create(\n",
      "  File \"/home/rjha01/anaconda3/envs/comp-gap/lib/python3.9/site-packages/openai/api_resources/chat_completion.py\", line 25, in create\n",
      "    return super().create(*args, **kwargs)\n",
      "  File \"/home/rjha01/anaconda3/envs/comp-gap/lib/python3.9/site-packages/openai/api_resources/abstract/engine_api_resource.py\", line 153, in create\n",
      "    response, _, api_key = requestor.request(\n",
      "  File \"/home/rjha01/anaconda3/envs/comp-gap/lib/python3.9/site-packages/openai/api_requestor.py\", line 226, in request\n",
      "    resp, got_stream = self._interpret_response(result, stream)\n",
      "  File \"/home/rjha01/anaconda3/envs/comp-gap/lib/python3.9/site-packages/openai/api_requestor.py\", line 620, in _interpret_response\n",
      "    self._interpret_response_line(\n",
      "  File \"/home/rjha01/anaconda3/envs/comp-gap/lib/python3.9/site-packages/openai/api_requestor.py\", line 683, in _interpret_response_line\n",
      "    raise self.handle_error_response(\n",
      "openai.error.RateLimitError: That model is currently overloaded with other requests. You can retry your request, or contact us through our help center at help.openai.com if the error persists. (Please include the request ID 66762c1748d39dce64c3302f3c307fe0 in your message.)\n"
     ]
    },
    {
     "name": "stdout",
     "output_type": "stream",
     "text": [
      "Lisa is organizing a fundraising event for her school. She plans to sell boxes of cookies. Each box contains 8 rows of cookies, with 13 cookies in each row. Lisa wants to assemble the boxes in stacks, with 9 boxes in each stack. How many cookies will be in a stack of boxes?\n",
      "48\n",
      "49\n",
      "50\n",
      "51\n",
      "52\n",
      "Lisa is organizing a fundraising event for her school. She plans to sell boxes of cookies. Each box contains 18 rows of cookies, with 2 cookies in each row. Lisa wants to assemble the boxes in stacks, with 4 boxes in each stack. How many cookies will be in a stack of boxes?\n",
      "53\n",
      "54\n",
      "55\n",
      "56\n",
      "57\n",
      "Lisa is organizing a fundraising event for her school. She plans to sell boxes of cookies. Each box contains 3 rows of cookies, with 17 cookies in each row. Lisa wants to assemble the boxes in stacks, with 11 boxes in each stack. How many cookies will be in a stack of boxes?\n",
      "58\n",
      "59\n",
      "60\n",
      "61\n",
      "62\n",
      "Lisa is organizing a fundraising event for her school. She plans to sell boxes of cookies. Each box contains 9 rows of cookies, with 1 cookies in each row. Lisa wants to assemble the boxes in stacks, with 16 boxes in each stack. How many cookies will be in a stack of boxes?\n",
      "63\n",
      "64\n",
      "65\n",
      "66\n",
      "67\n",
      "Lisa is organizing a fundraising event for her school. She plans to sell boxes of cookies. Each box contains 7 rows of cookies, with 17 cookies in each row. Lisa wants to assemble the boxes in stacks, with 19 boxes in each stack. How many cookies will be in a stack of boxes?\n",
      "68\n",
      "69\n",
      "70\n",
      "71\n",
      "72\n",
      "Lisa is organizing a fundraising event for her school. She plans to sell boxes of cookies. Each box contains 4 rows of cookies, with 19 cookies in each row. Lisa wants to assemble the boxes in stacks, with 7 boxes in each stack. How many cookies will be in a stack of boxes?\n",
      "73\n",
      "74\n",
      "75\n",
      "76\n",
      "77\n",
      "Lisa is organizing a fundraising event for her school. She plans to sell boxes of cookies. Each box contains 12 rows of cookies, with 0 cookies in each row. Lisa wants to assemble the boxes in stacks, with 0 boxes in each stack. How many cookies will be in a stack of boxes?\n"
     ]
    },
    {
     "name": "stderr",
     "output_type": "stream",
     "text": [
      "Traceback (most recent call last):\n",
      "  File \"/tmp/ipykernel_946/2440290653.py\", line 21, in <cell line: 1>\n",
      "    prompt_results[key] = run_LM_on_expression(prompt, dp, model, extract_answer=extract_answer, start=\"\")\n",
      "  File \"/tmp/ipykernel_946/1293680870.py\", line 7, in run_LM_on_expression\n",
      "    ans = openai.ChatCompletion.create(\n",
      "  File \"/home/rjha01/anaconda3/envs/comp-gap/lib/python3.9/site-packages/openai/api_resources/chat_completion.py\", line 25, in create\n",
      "    return super().create(*args, **kwargs)\n",
      "  File \"/home/rjha01/anaconda3/envs/comp-gap/lib/python3.9/site-packages/openai/api_resources/abstract/engine_api_resource.py\", line 153, in create\n",
      "    response, _, api_key = requestor.request(\n",
      "  File \"/home/rjha01/anaconda3/envs/comp-gap/lib/python3.9/site-packages/openai/api_requestor.py\", line 226, in request\n",
      "    resp, got_stream = self._interpret_response(result, stream)\n",
      "  File \"/home/rjha01/anaconda3/envs/comp-gap/lib/python3.9/site-packages/openai/api_requestor.py\", line 620, in _interpret_response\n",
      "    self._interpret_response_line(\n",
      "  File \"/home/rjha01/anaconda3/envs/comp-gap/lib/python3.9/site-packages/openai/api_requestor.py\", line 683, in _interpret_response_line\n",
      "    raise self.handle_error_response(\n",
      "openai.error.RateLimitError: That model is currently overloaded with other requests. You can retry your request, or contact us through our help center at help.openai.com if the error persists. (Please include the request ID f68db5f4e74b58e820e0e29179713f90 in your message.)\n"
     ]
    },
    {
     "name": "stdout",
     "output_type": "stream",
     "text": [
      "Lisa is organizing a fundraising event for her school. She plans to sell boxes of cookies. Each box contains 12 rows of cookies, with 0 cookies in each row. Lisa wants to assemble the boxes in stacks, with 0 boxes in each stack. How many cookies will be in a stack of boxes?\n",
      "78\n",
      "79\n",
      "80\n",
      "81\n",
      "82\n",
      "Lisa is organizing a fundraising event for her school. She plans to sell boxes of cookies. Each box contains 15 rows of cookies, with 7 cookies in each row. Lisa wants to assemble the boxes in stacks, with 13 boxes in each stack. How many cookies will be in a stack of boxes?\n",
      "83\n",
      "84\n",
      "85\n",
      "86\n",
      "87\n",
      "Lisa is organizing a fundraising event for her school. She plans to sell boxes of cookies. Each box contains 16 rows of cookies, with 1 cookies in each row. Lisa wants to assemble the boxes in stacks, with 8 boxes in each stack. How many cookies will be in a stack of boxes?\n",
      "88\n",
      "89\n",
      "90\n",
      "91\n",
      "92\n",
      "Lisa is organizing a fundraising event for her school. She plans to sell boxes of cookies. Each box contains 7 rows of cookies, with 0 cookies in each row. Lisa wants to assemble the boxes in stacks, with 11 boxes in each stack. How many cookies will be in a stack of boxes?\n",
      "93\n",
      "94\n",
      "95\n",
      "96\n",
      "97\n",
      "Lisa is organizing a fundraising event for her school. She plans to sell boxes of cookies. Each box contains 18 rows of cookies, with 15 cookies in each row. Lisa wants to assemble the boxes in stacks, with 12 boxes in each stack. How many cookies will be in a stack of boxes?\n",
      "98\n",
      "99\n"
     ]
    }
   ],
   "source": [
    "for format in formats:\n",
    "    i = 0\n",
    "\n",
    "    while i < len(data[format]):\n",
    "        dp = data[format][i].copy()\n",
    "        ns = re.split(r'\\s\\*\\s|\\s\\+\\s', dp['Question'])\n",
    "        q = wps[format][i % 5]\n",
    "        for j in range(len(ns)):\n",
    "            idx = len(ns) - j\n",
    "            q = q.replace('#' * idx, ns[idx - 1])\n",
    "        print(q)\n",
    "        dp['Question'] = q\n",
    "        try:\n",
    "            prompt_results = {}\n",
    "            for key in prompts.keys():\n",
    "                prompt = prompts[key]\n",
    "                prompt_results[key] = run_LM_on_expression(prompt, dp, model, extract_answer=extract_answer, start=\"\")\n",
    "            # Update results\n",
    "            update_results_dict(results[f\"results_format_({format})\"], prompt_results, prompts.keys())\n",
    "\n",
    "            # only run once\n",
    "            print(i)\n",
    "            i += 1\n",
    "        except Exception as e:\n",
    "            # print(\"error: \", e)\n",
    "            traceback.print_exc()\n",
    "    # save()\n",
    "    \n"
   ]
  },
  {
   "cell_type": "code",
   "execution_count": 19,
   "metadata": {},
   "outputs": [
    {
     "data": {
      "text/plain": [
       "'results/arithmetic/word_problem_only_results_mult_recomp_gpt-3.5-turbo.json'"
      ]
     },
     "execution_count": 19,
     "metadata": {},
     "output_type": "execute_result"
    }
   ],
   "source": [
    "results_file = f'results/arithmetic/word_problem_only_results_both_2_{model}.json'\n",
    "results_file"
   ]
  },
  {
   "cell_type": "code",
   "execution_count": 20,
   "metadata": {},
   "outputs": [],
   "source": [
    "def save():\n",
    "    with open(results_file, 'w') as outfile:\n",
    "        json.dump(results, outfile, ensure_ascii=False, indent=4)\n",
    "save()"
   ]
  }
 ],
 "metadata": {
  "kernelspec": {
   "display_name": "Python 3.8.10 ('cse446')",
   "language": "python",
   "name": "python3"
  },
  "language_info": {
   "codemirror_mode": {
    "name": "ipython",
    "version": 3
   },
   "file_extension": ".py",
   "mimetype": "text/x-python",
   "name": "python",
   "nbconvert_exporter": "python",
   "pygments_lexer": "ipython3",
   "version": "3.9.12"
  },
  "orig_nbformat": 4,
  "vscode": {
   "interpreter": {
    "hash": "636ec8becea98e7bcc147f8730e623b9daacd3a9f051eaf5633e292a90ea16aa"
   }
  }
 },
 "nbformat": 4,
 "nbformat_minor": 2
}
