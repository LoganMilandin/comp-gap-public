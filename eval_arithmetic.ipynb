{
 "cells": [
  {
   "cell_type": "code",
   "execution_count": 229,
   "metadata": {},
   "outputs": [],
   "source": [
    "import openai\n",
    "import urllib.request, json \n",
    "import string, re\n",
    "import random\n",
    "import time\n",
    "import traceback\n",
    "\n",
    "\n",
    "with open('API_key.txt', 'r') as file:\n",
    "    openai.api_key = file.readline().strip()"
   ]
  },
  {
   "cell_type": "code",
   "execution_count": 230,
   "metadata": {},
   "outputs": [
    {
     "data": {
      "text/plain": [
       "144"
      ]
     },
     "execution_count": 230,
     "metadata": {},
     "output_type": "execute_result"
    }
   ],
   "source": [
    "data_path = \"data/all_formats_small_numbers.json\"\n",
    "with open(data_path, 'r') as f:\n",
    "    data = json.load(f)\n",
    "len(data)"
   ]
  },
  {
   "cell_type": "code",
   "execution_count": 231,
   "metadata": {},
   "outputs": [],
   "source": [
    "def normalize_answer(s):\n",
    "    \"\"\"Lower text and remove punctuation, articles and extra whitespace.\"\"\"\n",
    "    def remove_articles(text):\n",
    "        return re.sub(r'\\b(a|an|the)\\b', ' ', text)\n",
    "\n",
    "    def white_space_fix(text):\n",
    "        return ' '.join(text.split())\n",
    "\n",
    "    def remove_punc(text):\n",
    "        exclude = set(string.punctuation)\n",
    "        return ''.join(ch for ch in text if ch not in exclude)\n",
    "\n",
    "    def lower(text):\n",
    "        return text.lower()\n",
    "\n",
    "    return white_space_fix(remove_articles(remove_punc(lower(str(s)))))\n",
    "\n",
    "def extract_answer(generated):\n",
    "    generated = generated.lower()\n",
    "    if 'final answer:' in generated:\n",
    "        after_colon = generated.split('final answer:')[-1]\n",
    "        if \"\\n\" in after_colon:\n",
    "            after_colon = after_colon.split(\"\\n\")[0]\n",
    "    elif \":\" in generated:\n",
    "        after_colon = generated.split(':')[-1]\n",
    "        if \"\\n\" in after_colon:\n",
    "            after_colon = after_colon.split(\"\\n\")[0]\n",
    "    else:\n",
    "        after_colon = generated\n",
    "    return normalize_answer(after_colon)"
   ]
  },
  {
   "cell_type": "code",
   "execution_count": 238,
   "metadata": {},
   "outputs": [],
   "source": [
    "system_prompt = f\"You are ChatGPT, a large language model trained by OpenAI, based on the GPT-3.5 architecture.\\nKnowledge cutoff: 2021-09\\nCurrent date: 2023-05-17\""
   ]
  },
  {
   "cell_type": "code",
   "execution_count": 239,
   "metadata": {},
   "outputs": [],
   "source": [
    "def run_LM_on_expression(prompt, sample, current_model, extract_answer, max_tokens=300, start=\" =\"):\n",
    "    question = sample['Question'] + start\n",
    "    # cur_prompt = prompt_prefix + prompt + '\\n' + '\\n' + 'Question: ' + question + '\\n' + start\n",
    "    cur_prompt = prompt + ' ' + question\n",
    "\n",
    "    if current_model in [\"gpt-3.5-turbo\", \"gpt-4\"]:\n",
    "        ans = openai.ChatCompletion.create(\n",
    "            model=current_model,\n",
    "            max_tokens=max_tokens,\n",
    "            # stop='\\n\\n',\n",
    "            messages=[\n",
    "                {\"role\": \"system\", \"content\": system_prompt},\n",
    "                {\"role\": \"user\", \"content\": cur_prompt}\n",
    "            ]\n",
    "        )\n",
    "        response_text = ans['choices'][0][\"message\"][\"content\"]\n",
    "    else:\n",
    "        ans = openai.Completion.create(\n",
    "            model=current_model,\n",
    "            max_tokens=max_tokens,\n",
    "            # stop='\\n\\n',\n",
    "            prompt=cur_prompt,\n",
    "            temperature=0\n",
    "        )\n",
    "        response_text = ans['choices'][0]['text']\n",
    "    is_right = False\n",
    "    try:\n",
    "        if prompt == \"\":\n",
    "            is_right = str(sample[\"Answer\"]) in normalize_answer(response_text)\n",
    "        else:\n",
    "            cleaned_answer = extract_answer(response_text)\n",
    "            is_right = int(cleaned_answer) == sample[\"Answer\"]\n",
    "\n",
    "    except Exception as e:\n",
    "        print(cur_prompt)\n",
    "        print(response_text)\n",
    "        print(e)\n",
    "    jsonres = {\n",
    "        \"question\": sample['Question'],\n",
    "        \"prompt\": cur_prompt,\n",
    "        \"answer\": sample['Answer'],\n",
    "        \"returned\": response_text,\n",
    "        \"is_right\": is_right,\n",
    "        \"is_right_CEM\": str(sample[\"Answer\"]) in normalize_answer(response_text)\n",
    "    }\n",
    "    return jsonres"
   ]
  },
  {
   "cell_type": "code",
   "execution_count": 240,
   "metadata": {},
   "outputs": [],
   "source": [
    "def update_results_dict(results, prompt_results, prompt_types):\n",
    "\n",
    "    for key in prompt_types:\n",
    "        if prompt_results[key][f\"is_right\"]:\n",
    "            results[\"summary\"][f\"{key}_correct\"] += 1\n",
    "        if prompt_results[key][f\"is_right_CEM\"]:\n",
    "            results[\"summary\"][f\"{key}_CEM_correct\"] += 1\n",
    "\n",
    "    results[\"per_question_results\"].append(prompt_results)\n"
   ]
  },
  {
   "cell_type": "code",
   "execution_count": 252,
   "metadata": {},
   "outputs": [
    {
     "name": "stdout",
     "output_type": "stream",
     "text": [
      "['# + #', '# + # + #', '# + # + # + #', '# + # + # + # + #', '# + # + # + # + # + #', '# + # + # + # + # + # + #', '# + # + # + # + # + # + # + #', '# + # + # + # + # + # + # + # + #', '# + # + # + # + # + # + # + # + # + #', '# + # + # + # + # + # + # + # + # + # + #']\n"
     ]
    },
    {
     "data": {
      "text/plain": [
       "{'per_question_results': [],\n",
       " 'summary': {'direct_answer_correct': 0, 'unprompted_correct': 0}}"
      ]
     },
     "execution_count": 252,
     "metadata": {},
     "output_type": "execute_result"
    }
   ],
   "source": [
    "formats = [' + '.join(['#'] * (i+2)) for i in range(0, 10)]\n",
    "# formats = [\"# + # * # + #\"]\n",
    "\n",
    "prompts = {\n",
    "    \"unprompted\": \"\", \n",
    "    \"chain_of_thought\": \"Answer the following math problem, showing each step and stating your final answer in the form \\\"final answer: <number>\\\" on a new line.\", \n",
    "    \"direct_answer\": \"Answer the following math problem, final answer (number) only, NO WORDS. \"\n",
    "}\n",
    "results = {\n",
    "    f\"results_format_({format})\": {\n",
    "        \"per_question_results\": [],\n",
    "        \"summary\": {\n",
    "            **{f\"{prompt_type}_correct\": 0 for prompt_type in prompts.keys()}, **{f\"{prompt_type}_CEM_correct\": 0 for prompt_type in prompts.keys()}\n",
    "        }\n",
    "    } for format in formats\n",
    "}\n",
    "\n",
    "print(formats)\n",
    "\n",
    "{\n",
    "    \"per_question_results\": [],\n",
    "    \"summary\": {\n",
    "        \"direct_answer_correct\": 0,\n",
    "        \"unprompted_correct\": 0\n",
    "    }\n",
    "}\n"
   ]
  },
  {
   "cell_type": "code",
   "execution_count": 253,
   "metadata": {},
   "outputs": [],
   "source": [
    "model = \"gpt-3.5-turbo\""
   ]
  },
  {
   "cell_type": "code",
   "execution_count": 254,
   "metadata": {},
   "outputs": [
    {
     "data": {
      "text/plain": [
       "0"
      ]
     },
     "execution_count": 254,
     "metadata": {},
     "output_type": "execute_result"
    }
   ],
   "source": [
    "j"
   ]
  },
  {
   "cell_type": "code",
   "execution_count": 251,
   "metadata": {},
   "outputs": [
    {
     "ename": "NameError",
     "evalue": "name 'num' is not defined",
     "output_type": "error",
     "traceback": [
      "\u001b[0;31m---------------------------------------------------------------------------\u001b[0m",
      "\u001b[0;31mNameError\u001b[0m                                 Traceback (most recent call last)",
      "Cell \u001b[0;32mIn[251], line 6\u001b[0m\n\u001b[1;32m      3\u001b[0m \u001b[39mformat\u001b[39m \u001b[39m=\u001b[39m \u001b[39mformat\u001b[39m[j]\n\u001b[1;32m      5\u001b[0m i \u001b[39m=\u001b[39m \u001b[39m0\u001b[39m\n\u001b[0;32m----> 6\u001b[0m \u001b[39mwhile\u001b[39;00m i \u001b[39m<\u001b[39m \u001b[39mlen\u001b[39m(data[num]):\n\u001b[1;32m      7\u001b[0m     dp \u001b[39m=\u001b[39m data[\u001b[39mformat\u001b[39m][i]\n\u001b[1;32m      8\u001b[0m     \u001b[39mtry\u001b[39;00m:\n",
      "\u001b[0;31mNameError\u001b[0m: name 'num' is not defined"
     ]
    }
   ],
   "source": [
    "j = 0\n",
    "while j < len(formats):\n",
    "    format = format[j]\n",
    "    \n",
    "    i = 0\n",
    "    while i < len(data[format]):\n",
    "        dp = data[format][i]\n",
    "        try:\n",
    "            prompt_results = {}\n",
    "            for key in prompts.keys():\n",
    "                prompt = prompts[key]\n",
    "                prompt_results[key] = run_LM_on_expression(prompt, dp, model, extract_answer=extract_answer)\n",
    "            # Update results\n",
    "            update_results_dict(results[f\"results_format_({format})\"], prompt_results, prompts.keys())\n",
    "\n",
    "            # only run once\n",
    "            print(i)\n",
    "            i += 1\n",
    "        except Exception as e:\n",
    "            # print(\"error: \", e)\n",
    "            traceback.print_exc()\n",
    "    save()\n",
    "    j += 1\n",
    "    \n"
   ]
  },
  {
   "cell_type": "code",
   "execution_count": 255,
   "metadata": {},
   "outputs": [
    {
     "data": {
      "text/plain": [
       "'results/arithmetic/multiplication_only_small_numbers_results_gpt-3.5-turbo.json'"
      ]
     },
     "execution_count": 255,
     "metadata": {},
     "output_type": "execute_result"
    }
   ],
   "source": [
    "results_file = f'results/arithmetic/addition_only_small_numbers_results_{model}.json'\n",
    "results_file"
   ]
  },
  {
   "cell_type": "code",
   "execution_count": 245,
   "metadata": {},
   "outputs": [],
   "source": [
    "def save():\n",
    "    with open(results_file, 'w') as outfile:\n",
    "        json.dump(results, outfile, ensure_ascii=False, indent=4)\n",
    "save()"
   ]
  }
 ],
 "metadata": {
  "kernelspec": {
   "display_name": "Python 3",
   "language": "python",
   "name": "python3"
  },
  "language_info": {
   "codemirror_mode": {
    "name": "ipython",
    "version": 3
   },
   "file_extension": ".py",
   "mimetype": "text/x-python",
   "name": "python",
   "nbconvert_exporter": "python",
   "pygments_lexer": "ipython3",
   "version": "3.9.15"
  },
  "orig_nbformat": 4
 },
 "nbformat": 4,
 "nbformat_minor": 2
}
